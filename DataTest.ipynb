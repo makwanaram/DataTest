{
 "cells": [
  {
   "cell_type": "code",
   "execution_count": 1,
   "id": "749eaf53",
   "metadata": {},
   "outputs": [],
   "source": [
    "import findspark"
   ]
  },
  {
   "cell_type": "code",
   "execution_count": null,
   "id": "948ecf95",
   "metadata": {},
   "outputs": [],
   "source": [
    "findspark.find()"
   ]
  },
  {
   "cell_type": "code",
   "execution_count": 3,
   "id": "c6c590f4",
   "metadata": {},
   "outputs": [],
   "source": [
    "from pyspark.sql import SparkSession\n",
    "from pyspark.sql.functions import *"
   ]
  },
  {
   "cell_type": "code",
   "execution_count": 4,
   "id": "a2a2aa25",
   "metadata": {},
   "outputs": [],
   "source": [
    "sc= SparkSession.builder.appName('DataTest').master('local').getOrCreate()"
   ]
  },
  {
   "cell_type": "code",
   "execution_count": 57,
   "id": "a99c7182",
   "metadata": {},
   "outputs": [],
   "source": [
    "trans_df = sc.read.option('multiline',True).json('./input_data/starter/transactions')\n",
    "cust_df=sc.read.option('header',True).csv('./input_data/starter/customers.csv')\n",
    "prod_df = sc.read.option('header',True).csv('./input_data/starter/products.csv')"
   ]
  },
  {
   "cell_type": "code",
   "execution_count": 58,
   "id": "1323adad",
   "metadata": {},
   "outputs": [
    {
     "name": "stdout",
     "output_type": "stream",
     "text": [
      "root\n",
      " |-- basket: array (nullable = true)\n",
      " |    |-- element: struct (containsNull = true)\n",
      " |    |    |-- price: long (nullable = true)\n",
      " |    |    |-- product_id: string (nullable = true)\n",
      " |-- customer_id: string (nullable = true)\n",
      " |-- date_of_purchase: string (nullable = true)\n",
      " |-- d: date (nullable = true)\n",
      "\n",
      "root\n",
      " |-- customer_id: string (nullable = true)\n",
      " |-- loyalty_score: string (nullable = true)\n",
      "\n",
      "root\n",
      " |-- product_id: string (nullable = true)\n",
      " |-- product_description: string (nullable = true)\n",
      " |-- product_category: string (nullable = true)\n",
      "\n"
     ]
    }
   ],
   "source": [
    "trans_df.printSchema()\n",
    "cust_df.printSchema()\n",
    "prod_df.printSchema()"
   ]
  },
  {
   "cell_type": "code",
   "execution_count": 60,
   "id": "0c1d0d6a",
   "metadata": {},
   "outputs": [
    {
     "name": "stdout",
     "output_type": "stream",
     "text": [
      "+-----------+-------------+--------------------+-------------------+----------+\n",
      "|customer_id|loyalty_score|              basket|   date_of_purchase|         d|\n",
      "+-----------+-------------+--------------------+-------------------+----------+\n",
      "|         C1|            7|[{742, P50}, {183...|2018-12-25 10:48:00|2018-12-25|\n",
      "|         C8|            7|[{819, P03}, {171...|2019-02-20 15:45:00|2019-02-20|\n",
      "|         C2|            4|[{102, P11}, {565...|2019-01-17 18:25:00|2019-01-17|\n",
      "+-----------+-------------+--------------------+-------------------+----------+\n",
      "only showing top 3 rows\n",
      "\n"
     ]
    }
   ],
   "source": [
    "join_cust_json=cust_df.join(trans_df,['customer_id'],\"inner\")\n",
    "join_cust_json.show(3)"
   ]
  },
  {
   "cell_type": "code",
   "execution_count": 61,
   "id": "dbedd974",
   "metadata": {},
   "outputs": [
    {
     "name": "stdout",
     "output_type": "stream",
     "text": [
      "+-----------+-------------+--------------------+-------------------+----------+--------------+----------+-------------+\n",
      "|customer_id|loyalty_score|              basket|   date_of_purchase|         d|basket_explode|product_id|product_price|\n",
      "+-----------+-------------+--------------------+-------------------+----------+--------------+----------+-------------+\n",
      "|         C1|            7|[{742, P50}, {183...|2018-12-25 10:48:00|2018-12-25|    {742, P50}|       P50|          742|\n",
      "|         C1|            7|[{742, P50}, {183...|2018-12-25 10:48:00|2018-12-25|   {1838, P51}|       P51|         1838|\n",
      "|         C1|            7|[{742, P50}, {183...|2018-12-25 10:48:00|2018-12-25|    {678, P47}|       P47|          678|\n",
      "+-----------+-------------+--------------------+-------------------+----------+--------------+----------+-------------+\n",
      "only showing top 3 rows\n",
      "\n"
     ]
    }
   ],
   "source": [
    "add_col= join_cust_json.withColumn('basket_explode',explode('basket'))\\\n",
    "                    .withColumn('product_id',col('basket_explode.product_id'))\\\n",
    "                    .withColumn('product_price',col('basket_explode.price'))\n",
    "add_col.show(3)"
   ]
  },
  {
   "cell_type": "code",
   "execution_count": 62,
   "id": "f38282a0",
   "metadata": {},
   "outputs": [
    {
     "name": "stdout",
     "output_type": "stream",
     "text": [
      "+----------+-----------+-------------+--------------------+-------------------+----------+--------------+-------------+-------------------+----------------+\n",
      "|product_id|customer_id|loyalty_score|              basket|   date_of_purchase|         d|basket_explode|product_price|product_description|product_category|\n",
      "+----------+-----------+-------------+--------------------+-------------------+----------+--------------+-------------+-------------------+----------------+\n",
      "|       P50|         C1|            7|[{742, P50}, {183...|2018-12-25 10:48:00|2018-12-25|    {742, P50}|          742|          camembert|            food|\n",
      "|       P51|         C1|            7|[{742, P50}, {183...|2018-12-25 10:48:00|2018-12-25|   {1838, P51}|         1838|              pizza|            food|\n",
      "|       P47|         C1|            7|[{742, P50}, {183...|2018-12-25 10:48:00|2018-12-25|    {678, P47}|          678|      whole chicken|            food|\n",
      "+----------+-----------+-------------+--------------------+-------------------+----------+--------------+-------------+-------------------+----------------+\n",
      "only showing top 3 rows\n",
      "\n"
     ]
    }
   ],
   "source": [
    "join_all=add_col.join(prod_df,['product_id'],\"inner\")\n",
    "join_all.show(3)"
   ]
  },
  {
   "cell_type": "code",
   "execution_count": 63,
   "id": "17361810",
   "metadata": {},
   "outputs": [
    {
     "name": "stdout",
     "output_type": "stream",
     "text": [
      "+----------+-----------+-------------+-------------------+--------------+-------------+----------------+-------------+\n",
      "|product_id|customer_id|loyalty_score|   date_of_purchase|basket_explode|product_price|product_category|weekoftheyear|\n",
      "+----------+-----------+-------------+-------------------+--------------+-------------+----------------+-------------+\n",
      "|       P50|         C1|            7|2018-12-25 10:48:00|    {742, P50}|          742|            food|           52|\n",
      "|       P51|         C1|            7|2018-12-25 10:48:00|   {1838, P51}|         1838|            food|           52|\n",
      "|       P47|         C1|            7|2018-12-25 10:48:00|    {678, P47}|          678|            food|           52|\n",
      "+----------+-----------+-------------+-------------------+--------------+-------------+----------------+-------------+\n",
      "only showing top 3 rows\n",
      "\n"
     ]
    }
   ],
   "source": [
    "not_req=['basket','d','product_description']\n",
    "final_df=join_all.drop(*(not_req))\n",
    "final_df=final_df.withColumn(\"weekoftheyear\",weekofyear(col(\"date_of_purchase\")))\n",
    "final_df.show(3)"
   ]
  },
  {
   "cell_type": "code",
   "execution_count": 65,
   "id": "e9a85237",
   "metadata": {},
   "outputs": [
    {
     "name": "stdout",
     "output_type": "stream",
     "text": [
      "+-------------+-----------+-------------+----------+----------------+-----+\n",
      "|weekoftheyear|customer_id|loyalty_score|product_id|product_category|count|\n",
      "+-------------+-----------+-------------+----------+----------------+-----+\n",
      "|           52|         C2|            4|       P08|           house|    1|\n",
      "|           49|        C14|            3|       P33|       fruit_veg|    1|\n",
      "|           50|         C6|           10|       P35|          sweets|    1|\n",
      "+-------------+-----------+-------------+----------+----------------+-----+\n",
      "only showing top 3 rows\n",
      "\n"
     ]
    }
   ],
   "source": [
    "final_df=final_df.groupBy('weekoftheyear','customer_id','loyalty_score','product_id','product_category').count()\n",
    "final_df.show(3)"
   ]
  },
  {
   "cell_type": "code",
   "execution_count": 66,
   "id": "5980d122",
   "metadata": {},
   "outputs": [
    {
     "name": "stdout",
     "output_type": "stream",
     "text": [
      "+-----------+-------------+----------+----------------+-------------+--------------+\n",
      "|customer_id|loyalty_score|product_id|product_category|weekoftheyear|purchase_count|\n",
      "+-----------+-------------+----------+----------------+-------------+--------------+\n",
      "|         C2|            4|       P08|           house|           52|             1|\n",
      "|        C14|            3|       P33|       fruit_veg|           49|             1|\n",
      "|         C6|           10|       P35|          sweets|           50|             1|\n",
      "+-----------+-------------+----------+----------------+-------------+--------------+\n",
      "only showing top 3 rows\n",
      "\n"
     ]
    }
   ],
   "source": [
    "select_col=['customer_id','loyalty_score','product_id','product_category','weekoftheyear']\n",
    "final_df=final_df.select(*(select_col),\n",
    "              col(\"count\").alias(\"purchase_count\") \n",
    "  )\n",
    "final_df.show(3)"
   ]
  },
  {
   "cell_type": "code",
   "execution_count": 54,
   "id": "8e83fc71",
   "metadata": {},
   "outputs": [],
   "source": [
    "output_dir='./output_data/outputs/'\n",
    "final_df.write.format(\"json\")\\\n",
    ".mode(\"overwrite\")\\\n",
    ".partitionBy(\"weekoftheyear\")\\\n",
    ".save(output_dir)"
   ]
  }
 ],
 "metadata": {
  "kernelspec": {
   "display_name": "Python 3 (ipykernel)",
   "language": "python",
   "name": "python3"
  },
  "language_info": {
   "codemirror_mode": {
    "name": "ipython",
    "version": 3
   },
   "file_extension": ".py",
   "mimetype": "text/x-python",
   "name": "python",
   "nbconvert_exporter": "python",
   "pygments_lexer": "ipython3",
   "version": "3.9.12"
  }
 },
 "nbformat": 4,
 "nbformat_minor": 5
}
